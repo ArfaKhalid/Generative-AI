{
  "nbformat": 4,
  "nbformat_minor": 0,
  "metadata": {
    "colab": {
      "provenance": [],
      "authorship_tag": "ABX9TyPS4OQ7GhFBu8aAyBJP2ZwI",
      "include_colab_link": true
    },
    "kernelspec": {
      "name": "python3",
      "display_name": "Python 3"
    },
    "language_info": {
      "name": "python"
    }
  },
  "cells": [
    {
      "cell_type": "markdown",
      "metadata": {
        "id": "view-in-github",
        "colab_type": "text"
      },
      "source": [
        "<a href=\"https://colab.research.google.com/github/ArfaKhalid/Generative-AI/blob/main/Prompt_Design_PaLm.ipynb\" target=\"_parent\"><img src=\"https://colab.research.google.com/assets/colab-badge.svg\" alt=\"Open In Colab\"/></a>"
      ]
    },
    {
      "cell_type": "markdown",
      "source": [
        "# Objective\n",
        "In this notebook, you learn best practices around prompt engineering -- how to design prompts to improve the quality of your responses.\n",
        "\n",
        "This notebook covers the following best practices for prompt engineering:\n",
        "\n",
        "- Be concise\n",
        "- Be specific and well-defined\n",
        "- Ask one task at a time\n",
        "- Turn generative tasks into classification tasks\n",
        "- Improve response quality by including examples"
      ],
      "metadata": {
        "id": "AFmbWwafYEXG"
      }
    },
    {
      "cell_type": "code",
      "execution_count": null,
      "metadata": {
        "id": "7DFEjxpJX96U"
      },
      "outputs": [],
      "source": [
        "# Install Vertex AI SDK\n",
        "!pip install google-cloud-aiplatform --upgrade --user"
      ]
    },
    {
      "cell_type": "code",
      "source": [
        "# Automatically restart kernel after installs so that your environment can access the new packages\n",
        "import IPython\n",
        "\n",
        "app = IPython.Application.instance()\n",
        "app.kernel.do_shutdown(True)"
      ],
      "metadata": {
        "id": "CUk6eMjeYScD"
      },
      "execution_count": null,
      "outputs": []
    },
    {
      "cell_type": "code",
      "source": [
        "# Authenticating notebook environment\n",
        "import sys\n",
        "\n",
        "if \"google.colab\" in sys.modules:\n",
        "    from google.colab import auth\n",
        "\n",
        "    auth.authenticate_user()"
      ],
      "metadata": {
        "id": "ZSPvcc6JYVoE"
      },
      "execution_count": null,
      "outputs": []
    },
    {
      "cell_type": "markdown",
      "source": [
        "- If you are running this notebook in a local development environment:\n",
        "  - Install the [Google Cloud SDK](https://cloud.google.com/sdk).\n",
        "  - Obtain authentication credentials. Create local credentials by running the following command and following the oauth2 flow (read more about the command [here](https://cloud.google.com/sdk/gcloud/reference/beta/auth/application-default/login)):\n",
        "\n",
        "    ```bash\n",
        "    gcloud auth application-default login\n",
        "    ```"
      ],
      "metadata": {
        "id": "WOWwFa20YjIO"
      }
    },
    {
      "cell_type": "code",
      "source": [
        "# Import libraries\n",
        "import vertexai\n",
        "\n",
        "PROJECT_ID = \"[your-project-id]\"  # @param {type:\"string\"}\n",
        "REGION = \"us-central1\"  # @param {type:\"string\"}\n",
        "\n",
        "vertexai.init(project=PROJECT_ID, location=REGION)"
      ],
      "metadata": {
        "id": "KPi7m7PYYVkt"
      },
      "execution_count": null,
      "outputs": []
    },
    {
      "cell_type": "code",
      "source": [
        "from vertexai.language_models import TextGenerationModel\n",
        "from vertexai.language_models import ChatModel"
      ],
      "metadata": {
        "id": "3QvvazgqYVh4"
      },
      "execution_count": null,
      "outputs": []
    },
    {
      "cell_type": "code",
      "source": [
        "# Load Model\n",
        "generation_model = TextGenerationModel.from_pretrained(\"text-bison@001\")"
      ],
      "metadata": {
        "id": "3rBEI-CpYVdO"
      },
      "execution_count": null,
      "outputs": []
    },
    {
      "cell_type": "markdown",
      "source": [
        "# Prompt engineering best practices\n",
        "Prompt engineering is all about how to design your prompts so that the response is what you were indeed hoping to see.\n",
        "\n",
        "The idea of using \"unfancy\" prompts is to minimize the noise in your prompt to reduce the possibility of the LLM misinterpreting the intent of the prompt. Below are a few guidelines on how to engineer \"unfancy\" prompts.\n",
        "\n",
        "In this section, you'll cover the following best practices when engineering prompts:\n",
        "\n",
        "* Be concise\n",
        "* Be specific, and well-defined\n",
        "* Ask one task at a time\n",
        "* Improve response quality by including examples\n",
        "* Turn generative tasks to classification tasks to improve safety"
      ],
      "metadata": {
        "id": "mcf1esvHYwe0"
      }
    },
    {
      "cell_type": "markdown",
      "source": [
        "# Be concise"
      ],
      "metadata": {
        "id": "2LEoYSWqZLON"
      }
    },
    {
      "cell_type": "code",
      "source": [
        "prompt = \"What do you think could be a good name for a flower shop that specializes in selling bouquets of dried flowers more than fresh flowers? Thank you!\"\n",
        "\n",
        "print(generation_model.predict(prompt=prompt, max_output_tokens=256).text) # not recommended prompt"
      ],
      "metadata": {
        "id": "VP1btVJrYVaf"
      },
      "execution_count": null,
      "outputs": []
    },
    {
      "cell_type": "code",
      "source": [
        "prompt = \"Suggest a name for a flower shop that sells bouquets of dried flowers\"\n",
        "\n",
        "print(generation_model.predict(prompt=prompt, max_output_tokens=256).text) # recommended prompt"
      ],
      "metadata": {
        "id": "iTBczYcKYVXh"
      },
      "execution_count": null,
      "outputs": []
    },
    {
      "cell_type": "markdown",
      "source": [
        "# Be specific, and well-defined\n",
        "you want to brainstorm creative ways to describe Earth."
      ],
      "metadata": {
        "id": "RBziyFKXZN1X"
      }
    },
    {
      "cell_type": "code",
      "source": [
        "prompt = \"Tell me about Earth\"\n",
        "\n",
        "print(generation_model.predict(prompt=prompt, max_output_tokens=256).text) # not recommended"
      ],
      "metadata": {
        "id": "iU7cd__JYVPX"
      },
      "execution_count": null,
      "outputs": []
    },
    {
      "cell_type": "code",
      "source": [
        "prompt = \"Generate a list of ways that makes Earth unique compared to other planets\"\n",
        "\n",
        "print(generation_model.predict(prompt=prompt, max_output_tokens=256).text) # recommende prompt"
      ],
      "metadata": {
        "id": "HNdvYUkKYVA7"
      },
      "execution_count": null,
      "outputs": []
    },
    {
      "cell_type": "code",
      "source": [
        "prompt = \"What's the best method of boiling water?\"\n",
        "\n",
        "print(generation_model.predict(prompt=prompt, max_output_tokens=256).text)"
      ],
      "metadata": {
        "id": "uAhZak65ZqiM"
      },
      "execution_count": null,
      "outputs": []
    },
    {
      "cell_type": "code",
      "source": [
        "prompt = \"Why is the sky blue?\"\n",
        "\n",
        "print(generation_model.predict(prompt=prompt, max_output_tokens=256).text)"
      ],
      "metadata": {
        "id": "NJr6mB_SZqeu"
      },
      "execution_count": null,
      "outputs": []
    },
    {
      "cell_type": "markdown",
      "source": [
        "# Watch out for hallucinations\n",
        "Although LLMs have been trained on a large amount of data, they can generate text containing statements not grounded in truth or reality; these responses from the LLM are often referred to as \"hallucinations\" due to their limited memorization capabilities. Note that simply prompting the LLM to provide a citation isn’t a fix to this problem, as there are instances of LLMs providing false or inaccurate citations. Dealing with hallucinations is a fundamental challenge of LLMs and an ongoing research area, so it is important to be cognizant that LLMs may seem to give you confident, correct-sounding statements that are in fact incorrect.\n",
        "\n",
        "Note that if you intend to use LLMs for the creative use cases, hallucinating could actually be quite useful.\n",
        "\n",
        "Try the prompt like the one below repeatedly. You may notice that sometimes it will confidently, but inaccurately, say \"The first elephant to visit the moon was Luna\"."
      ],
      "metadata": {
        "id": "IYxF7iM-Zv8B"
      }
    },
    {
      "cell_type": "code",
      "source": [
        "prompt = \"Who was the first elephant to visit the moon?\"\n",
        "\n",
        "print(generation_model.predict(prompt=prompt, max_output_tokens=256).text)"
      ],
      "metadata": {
        "id": "ld2sVfL8ZqUf"
      },
      "execution_count": null,
      "outputs": []
    },
    {
      "cell_type": "markdown",
      "source": [
        "Clearly the chatbot is hallucinating since no elephant has ever flown to the moon. But how do we prevent these kinds of inappropriate questions and more specifically, reduce hallucinations?\n",
        "\n",
        "There is one possible method called the Determine Appropriate Response (DARE) prompt, which cleverly uses the LLM itself to decide whether it should answer a question based on what its mission is.\n",
        "\n",
        "Let's see how it works by creating a chatbot for a travel website with a slight twist."
      ],
      "metadata": {
        "id": "xsvYBr7-aB6K"
      }
    },
    {
      "cell_type": "code",
      "source": [
        "chat_model = ChatModel.from_pretrained(\"chat-bison@002\")\n",
        "\n",
        "chat = chat_model.start_chat()\n",
        "dare_prompt = \"\"\"Remember that before you answer a question, you must check to see if it complies with your mission.\n",
        "If not, you can say, Sorry I can't answer that question.\"\"\"\n",
        "\n",
        "print(\n",
        "    chat.send_message(\n",
        "        f\"\"\"\n",
        "Hello! You are an AI chatbot for a travel web site.\n",
        "Your mission is to provide helpful queries for travelers.\n",
        "\n",
        "{dare_prompt}\n",
        "\"\"\"\n",
        "    )\n",
        ")"
      ],
      "metadata": {
        "id": "fHpGkF_iZqKn"
      },
      "execution_count": null,
      "outputs": []
    },
    {
      "cell_type": "markdown",
      "source": [
        "Suppose we ask a simple question about one of Italy's most famous tourist spots."
      ],
      "metadata": {
        "id": "VXFTHwaXaGwO"
      }
    },
    {
      "cell_type": "code",
      "source": [
        "prompt = \"What is the best place for sightseeing in Milan, Italy?\"\n",
        "print(chat.send_message(prompt))"
      ],
      "metadata": {
        "id": "CVyT6tpraI61"
      },
      "execution_count": null,
      "outputs": []
    },
    {
      "cell_type": "markdown",
      "source": [
        "Now let us pretend to be a not-so-nice user and ask the chatbot a question that is unrelated to travel."
      ],
      "metadata": {
        "id": "ekhlQ0eWaMGG"
      }
    },
    {
      "cell_type": "code",
      "source": [
        "prompt = \"Who was the first elephant to visit the moon?\"\n",
        "print(chat.send_message(prompt))"
      ],
      "metadata": {
        "id": "vigVfTnaaK19"
      },
      "execution_count": null,
      "outputs": []
    },
    {
      "cell_type": "markdown",
      "source": [
        "You can see that the DARE prompt added a layer of guard rails that prevented the chatbot from veering off course."
      ],
      "metadata": {
        "id": "PvsWfoLQaScI"
      }
    },
    {
      "cell_type": "markdown",
      "source": [
        "### Turn generative tasks into classification tasks to reduce output variability\n",
        "#### Generative tasks lead to higher output variability\n",
        "The prompt below results in an open-ended response, useful for brainstorming, but response is highly variable."
      ],
      "metadata": {
        "id": "XCUGyksYaU4T"
      }
    },
    {
      "cell_type": "code",
      "source": [
        "prompt = \"I'm a high school student. Recommend me a programming activity to improve my skills.\"\n",
        "\n",
        "print(generation_model.predict(prompt=prompt, max_output_tokens=256).text)"
      ],
      "metadata": {
        "id": "Fl6kt3fyaKy7"
      },
      "execution_count": null,
      "outputs": []
    },
    {
      "cell_type": "markdown",
      "source": [
        "#### Classification tasks reduces output variability\n",
        "The prompt below results in a choice and may be useful if you want the output to be easier to control."
      ],
      "metadata": {
        "id": "c1oY8B3xad5_"
      }
    },
    {
      "cell_type": "code",
      "source": [
        "prompt = \"\"\"I'm a high school student. Which of these activities do you suggest and why:\n",
        "a) learn Python\n",
        "b) learn Javascript\n",
        "c) learn Fortran\n",
        "\"\"\"\n",
        "\n",
        "print(generation_model.predict(prompt=prompt, max_output_tokens=256).text)"
      ],
      "metadata": {
        "id": "_5VRZjDvaKwb"
      },
      "execution_count": null,
      "outputs": []
    },
    {
      "cell_type": "markdown",
      "source": [
        "### Improve response quality by including examples\n",
        "Another way to improve response quality is to add examples in your prompt. The LLM learns in-context from the examples on how to respond. Typically, one to five examples (shots) are enough to improve the quality of responses. Including too many examples can cause the model to over-fit the data and reduce the quality of responses.\n",
        "\n",
        "Similar to classical model training, the quality and distribution of the examples is very important. Pick examples that are representative of the scenarios that you need the model to learn, and keep the distribution of the examples (e.g. number of examples per class in the case of classification) aligned with your actual distribution."
      ],
      "metadata": {
        "id": "uqJIzPuIalDq"
      }
    },
    {
      "cell_type": "markdown",
      "source": [
        "#### Zero-shot prompt\n",
        "Below is an example of zero-shot prompting, where you don't provide any examples to the LLM within the prompt itself."
      ],
      "metadata": {
        "id": "E1UBjTCaarDD"
      }
    },
    {
      "cell_type": "code",
      "source": [
        "prompt = \"\"\"Decide whether a Tweet's sentiment is positive, neutral, or negative.\n",
        "\n",
        "Tweet: I loved the new YouTube video you made!\n",
        "Sentiment:\n",
        "\"\"\"\n",
        "\n",
        "print(generation_model.predict(prompt=prompt, max_output_tokens=256).text)"
      ],
      "metadata": {
        "id": "gN02m4YZaKtu"
      },
      "execution_count": null,
      "outputs": []
    },
    {
      "cell_type": "markdown",
      "source": [
        "#### One-shot prompt\n",
        "Below is an example of one-shot prompting, where you provide one example to the LLM within the prompt to give some guidance on what type of response you want."
      ],
      "metadata": {
        "id": "pmoPdtllayUd"
      }
    },
    {
      "cell_type": "code",
      "source": [
        "prompt = \"\"\"Decide whether a Tweet's sentiment is positive, neutral, or negative.\n",
        "\n",
        "Tweet: I loved the new YouTube video you made!\n",
        "Sentiment: positive\n",
        "\n",
        "Tweet: That was awful. Super boring 😠\n",
        "Sentiment:\n",
        "\"\"\"\n",
        "\n",
        "print(generation_model.predict(prompt=prompt, max_output_tokens=256).text)"
      ],
      "metadata": {
        "id": "GNGoDaNcaKgQ"
      },
      "execution_count": null,
      "outputs": []
    },
    {
      "cell_type": "markdown",
      "source": [
        "#### Few-shot prompt\n",
        "Below is an example of few-shot prompting, where you provide one example to the LLM within the prompt to give some guidance on what type of response you want."
      ],
      "metadata": {
        "id": "Zm1YSIxja6mc"
      }
    },
    {
      "cell_type": "code",
      "source": [
        "prompt = \"\"\"Decide whether a Tweet's sentiment is positive, neutral, or negative.\n",
        "\n",
        "Tweet: I loved the new YouTube video you made!\n",
        "Sentiment: positive\n",
        "\n",
        "Tweet: That was awful. Super boring 😠\n",
        "Sentiment: negative\n",
        "\n",
        "Tweet: Something surprised me about this video - it was actually original. It was not the same old recycled stuff that I always see. Watch it - you will not regret it.\n",
        "Sentiment:\n",
        "\"\"\"\n",
        "\n",
        "print(generation_model.predict(prompt=prompt, max_output_tokens=256).text)"
      ],
      "metadata": {
        "id": "EfC8wOLPa-nr"
      },
      "execution_count": null,
      "outputs": []
    },
    {
      "cell_type": "markdown",
      "source": [
        "#### Choosing between zero-shot, one-shot, few-shot prompting methods\n",
        "Which prompt technique to use will solely depends on your goal. The zero-shot prompts are more open-ended and can give you creative answers, while one-shot and few-shot prompts teach the model how to behave so you can get more predictable answers that are consistent with the examples provided."
      ],
      "metadata": {
        "id": "Oktx-3tubGCV"
      }
    }
  ]
}